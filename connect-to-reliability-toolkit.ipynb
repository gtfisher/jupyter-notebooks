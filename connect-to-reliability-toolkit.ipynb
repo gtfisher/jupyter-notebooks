{
 "cells": [
  {
   "cell_type": "markdown",
   "metadata": {},
   "source": [
    "# Connect Chaos Toolkit to the Reliablity Toolkit\n",
    "\n",
    "## Add the ChaosIQ Plugin to your Chaos Toolkit\n",
    "\n",
    "In order for the Chaos Toolkit to communicate with ChaosIQ you need to add the chaosiq-cloud plugin to your Chaos Toolkit installation.\n",
    "\n",
    "The chaosiq-cloud plugin is a Python package and can be found in the Python Package Index (PyPI) chaosiq-cloud.\n",
    "\n",
    "Ensure you have installed the Chaos Toolkit in your notebook shown in this (notebook)\n",
    "\n",
    "The ChaosIQ features can be added to your Chaos Toolkit CLI installation by executing:\n",
    "\n",
    "\n",
    "```\n",
    "%pip install chaosiq-cloud\n",
    "```"
   ]
  },
  {
   "cell_type": "code",
   "execution_count": 1,
   "metadata": {},
   "outputs": [
    {
     "name": "stdout",
     "output_type": "stream",
     "text": [
      "hiya\n"
     ]
    }
   ],
   "source": [
    "print (\"hiya\")"
   ]
  }
 ],
 "metadata": {
  "kernelspec": {
   "display_name": "Python 3",
   "language": "python",
   "name": "python3"
  },
  "language_info": {
   "codemirror_mode": {
    "name": "ipython",
    "version": 3
   },
   "file_extension": ".py",
   "mimetype": "text/x-python",
   "name": "python",
   "nbconvert_exporter": "python",
   "pygments_lexer": "ipython3",
   "version": "3.8.5"
  }
 },
 "nbformat": 4,
 "nbformat_minor": 4
}
