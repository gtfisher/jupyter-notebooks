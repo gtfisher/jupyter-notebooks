{
 "cells": [
  {
   "cell_type": "markdown",
   "metadata": {},
   "source": [
    "# Connect Chaos Toolkit to the Reliablity Toolkit\n",
    "\n",
    "\n",
    "(Chaos Toolkit)[https://pypi.org/project/chaostoolkit/] and the (Chaos Cloud Plugin)[https://pypi.org/project/chaosiq-cloud/] are both packages that can be found in (Python Package Index (PyPI))[https://pypi.org/]\n",
    "\n",
    "To run the Chaos toolkit and to connect it to the Reliablity Toolkit Cloud you will need the Choas Toolkit and the Chaos Cloud plugin installed in your notebook\n",
    "\n",
    "to install run:\n",
    "\n",
    "```\n",
    "%pip install -U chaostoolkit chaosiq-cloud\n",
    "```\n",
    "\n",
    "\n",
    "\n",
    "\n"
   ]
  },
  {
   "cell_type": "code",
   "execution_count": 3,
   "metadata": {
    "tags": []
   },
   "outputs": [
    {
     "output_type": "stream",
     "name": "stdout",
     "text": "Collecting chaostoolkit\n  Using cached chaostoolkit-1.6.0-py3-none-any.whl (18 kB)\nCollecting chaosiq-cloud\n  Using cached chaosiq_cloud-0.11.0-py2.py3-none-any.whl (38 kB)\nCollecting requests>=2.21\n  Using cached requests-2.24.0-py2.py3-none-any.whl (61 kB)\nProcessing /Users/grant/Library/Caches/pip/wheels/97/f7/a1/752e22bb30c1cfe38194ea0070a5c66e76ef4d06ad0c7dc401/python_json_logger-0.1.11-py2.py3-none-any.whl\nCollecting importlib-metadata>=1.2.0\n  Using cached importlib_metadata-1.7.0-py2.py3-none-any.whl (31 kB)\nCollecting click-plugins>=1.0.4\n  Using cached click_plugins-1.1.1-py2.py3-none-any.whl (7.5 kB)\nCollecting logzero>=1.5.0\n  Using cached logzero-1.5.0-py2.py3-none-any.whl (14 kB)\nCollecting chaostoolkit-lib~=1.12\n  Using cached chaostoolkit_lib-1.12.0-py3-none-any.whl (49 kB)\nProcessing /Users/grant/Library/Caches/pip/wheels/13/90/db/290ab3a34f2ef0b5a0f89235dc2d40fea83e77de84ed2dc05c/PyYAML-5.3.1-cp38-cp38-macosx_10_15_x86_64.whl\nCollecting click>=7.0\n  Using cached click-7.1.2-py2.py3-none-any.whl (82 kB)\nProcessing /Users/grant/Library/Caches/pip/wheels/3a/14/ce/9c504116f6b89e4a05ce0bc0f41983df280d7e00f463481900/tzlocal-1.5.1-py3-none-any.whl\nCollecting simplejson~=3.16\n  Using cached simplejson-3.17.2-cp38-cp38-macosx_10_14_x86_64.whl (74 kB)\nCollecting cloudevents~=0.2\n  Using cached cloudevents-0.3.0-py3-none-any.whl (26 kB)\nCollecting idna<3,>=2.5\n  Using cached idna-2.10-py2.py3-none-any.whl (58 kB)\nCollecting chardet<4,>=3.0.2\n  Using cached chardet-3.0.4-py2.py3-none-any.whl (133 kB)\nCollecting urllib3!=1.25.0,!=1.25.1,<1.26,>=1.21.1\n  Using cached urllib3-1.25.10-py2.py3-none-any.whl (127 kB)\nCollecting certifi>=2017.4.17\n  Using cached certifi-2020.6.20-py2.py3-none-any.whl (156 kB)\nCollecting zipp>=0.5\n  Using cached zipp-3.1.0-py3-none-any.whl (4.9 kB)\nCollecting pytz\n  Using cached pytz-2020.1-py2.py3-none-any.whl (510 kB)\nInstalling collected packages: idna, chardet, urllib3, certifi, requests, python-json-logger, zipp, importlib-metadata, click, click-plugins, logzero, PyYAML, chaostoolkit-lib, chaostoolkit, pytz, tzlocal, simplejson, cloudevents, chaosiq-cloud\n\u001b[31mERROR: After October 2020 you may experience errors when installing or updating packages. This is because pip will change the way that it resolves dependency conflicts.\n\nWe recommend you use --use-feature=2020-resolver to test your packages with the new resolver before it becomes the default.\n\nchaosiq-cloud 0.11.0 requires chaostoolkit<1.6.0,~=1.3, but you'll have chaostoolkit 1.6.0 which is incompatible.\nchaosiq-cloud 0.11.0 requires chaostoolkit-lib<1.12.0,~=1.7, but you'll have chaostoolkit-lib 1.12.0 which is incompatible.\u001b[0m\nSuccessfully installed PyYAML-5.3.1 certifi-2020.6.20 chaosiq-cloud-0.11.0 chaostoolkit-1.6.0 chaostoolkit-lib-1.12.0 chardet-3.0.4 click-7.1.2 click-plugins-1.1.1 cloudevents-0.3.0 idna-2.10 importlib-metadata-1.7.0 logzero-1.5.0 python-json-logger-0.1.11 pytz-2020.1 requests-2.24.0 simplejson-3.17.2 tzlocal-1.5.1 urllib3-1.25.10 zipp-3.1.0\nNote: you may need to restart the kernel to use updated packages.\n"
    }
   ],
   "source": [
    "%pip install -U chaostoolkit chaosiq-cloud"
   ]
  },
  {
   "cell_type": "markdown",
   "metadata": {},
   "source": [
    "## Confirm the Chaos Toolit and Cloud plugin are installed\n",
    "\n",
    "To check to see if the Chaos toolkit and the Cloud plgun are installed run the following in your  notebook:"
   ]
  },
  {
   "cell_type": "code",
   "execution_count": 7,
   "metadata": {
    "tags": []
   },
   "outputs": [
    {
     "output_type": "stream",
     "name": "stdout",
     "text": "Usage: chaos [OPTIONS] COMMAND [ARGS]...\n\nOptions:\n  --version                   Show the version and exit.\n  --verbose                   Display debug level traces.\n  --no-version-check          Do not search for an updated version of the\n                              chaostoolkit.\n\n  --change-dir TEXT           Change directory before running experiment.\n  --no-log-file               Disable logging to file entirely.\n  --log-file TEXT             File path where to write the command's log.\n                              [default: chaostoolkit.log]\n\n  --log-format [string|json]  Console logging format: string, json.\n  --settings TEXT             Path to the settings file.  [default:\n                              /Users/grant/.chaostoolkit/settings.yaml]\n\n  --help                      Show this message and exit.\n\nCommands:\n  disable   Disable a ChaosIQ feature\n  discover  Discover capabilities and experiments.\n  enable    Enable a ChaosIQ feature\n  info      Display information about the Chaos Toolkit environment.\n  init      Initialize a new experiment from discovered capabilities.\n  org       Set ChaosIQ organisation\n  publish   Publish your experiment's journal to ChaosIQ\n  run       Run the experiment loaded from SOURCE, either a local file or a...\n  settings  Read, write or remove from your settings file.\n  signin    Sign-in with your ChaosIQ credentials\n  team      Set ChaosIQ team\n  validate  Validate the experiment at SOURCE.\n  verify    Run the verification loaded from SOURCE, either a local file or...\n"
    }
   ],
   "source": [
    "!chaos"
   ]
  },
  {
   "cell_type": "markdown",
   "metadata": {},
   "source": [
    "## Generate a token\n",
    "\n",
    "To sign in your Chaos toolkit to the Reliablity toolkit you will need a (Reliablity toolkit account)[https://console.chaosiq.io/login] and you will need to generate a token, this is covered in the (Reliablity toolkit documentation)[https://docs.chaosiq.io/tokens/] When you have generated your token keep a copy of it somewhere secure and it can be used in the sigin step below."
   ]
  },
  {
   "cell_type": "markdown",
   "metadata": {},
   "source": [
    "## Sign in to ChaosIQ\n",
    "\n",
    "Signing in to the Reliablity toolkit involves pasting in the token generated in the secvtion above. The token is sensitive so it is recomended you perform this step in your local shell and not directly in the Jupyter Notebook environment. Run a shell locally and set you python virtual environment to the same environment used for the Jupyter notebook. Then run the ```chaos signin``` command and follow the signin steps.\n"
   ]
  },
  {
   "cell_type": "code",
   "execution_count": 10,
   "metadata": {
    "tags": []
   },
   "outputs": [
    {
     "output_type": "stream",
     "name": "stdout",
     "text": "\u001b[32m[2020-09-04 17:39:38 INFO]\u001b[39m Validating the experiment's syntax\n\u001b[32m[2020-09-04 17:39:38 INFO]\u001b[39m Experiment looks valid\n\u001b[32m[2020-09-04 17:39:39 INFO]\u001b[39m Execution available at https://console.localhost:8443/chaosiq/granttf/executions/fd387c3f-aa08-4dbe-9602-a22bd0c95d5a\n\u001b[32m[2020-09-04 17:39:39 INFO]\u001b[39m Running experiment: Checks the hypothesis that a URL responds with a 200 status\n\u001b[32m[2020-09-04 17:39:39 INFO]\u001b[39m Steady state hypothesis: Application is normal\n\u001b[32m[2020-09-04 17:39:40 INFO]\u001b[39m Probe: application-must-respond-normally\n\u001b[32m[2020-09-04 17:39:40 INFO]\u001b[39m Steady state hypothesis is met!\n\u001b[32m[2020-09-04 17:39:40 INFO]\u001b[39m No declared activities, let's move on.\n\u001b[32m[2020-09-04 17:39:41 INFO]\u001b[39m Steady state hypothesis: Application is normal\n\u001b[32m[2020-09-04 17:39:41 INFO]\u001b[39m Probe: application-must-respond-normally\n\u001b[32m[2020-09-04 17:39:41 INFO]\u001b[39m Steady state hypothesis is met!\n\u001b[32m[2020-09-04 17:39:42 INFO]\u001b[39m Let's rollback...\n\u001b[32m[2020-09-04 17:39:42 INFO]\u001b[39m No declared rollbacks, let's move on.\n\u001b[32m[2020-09-04 17:39:42 INFO]\u001b[39m Experiment ended with status: completed\n"
    }
   ],
   "source": [
    "!chaos run experiment.json"
   ]
  }
 ],
 "metadata": {
  "kernelspec": {
   "display_name": "Python 3.8.5 64-bit ('notebooks': venv)",
   "language": "python",
   "name": "python_defaultSpec_1599237163075"
  },
  "language_info": {
   "codemirror_mode": {
    "name": "ipython",
    "version": 3
   },
   "file_extension": ".py",
   "mimetype": "text/x-python",
   "name": "python",
   "nbconvert_exporter": "python",
   "pygments_lexer": "ipython3",
   "version": "3.8.5-final"
  }
 },
 "nbformat": 4,
 "nbformat_minor": 4
}