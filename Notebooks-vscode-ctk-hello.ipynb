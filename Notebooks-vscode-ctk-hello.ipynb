{
 "metadata": {
  "language_info": {
   "codemirror_mode": {
    "name": "ipython",
    "version": 3
   },
   "file_extension": ".py",
   "mimetype": "text/x-python",
   "name": "python",
   "nbconvert_exporter": "python",
   "pygments_lexer": "ipython3",
   "version": "3.7.8-final"
  },
  "orig_nbformat": 2,
  "kernelspec": {
   "name": "python_defaultSpec_1598258742039",
   "display_name": "Python 3.7.8 64-bit ('vs-code': virtualenv)"
  }
 },
 "nbformat": 4,
 "nbformat_minor": 2,
 "cells": [
  {
   "cell_type": "markdown",
   "metadata": {},
   "source": [
    "# Setting up Jupyter notebooks in a clean env in Vs code\n",
    "\n",
    "* Create a new venv and activate it in vs-code\n",
    "* To use jupyter notebooks you need to install Jupyter notebooks in that env: ```pip install jupyter```\n",
    "* Create a new note book see [Create Jupyter notebook](https://code.visualstudio.com/docs/python/jupyter-support#_create-or-open-a-jupyter-notebook)\n",
    "* Having created a notebook and jupyter installed in your env you can then execute code segements of you notebook:\n",
    "\n"
   ]
  },
  {
   "cell_type": "code",
   "execution_count": 11,
   "metadata": {
    "tags": []
   },
   "outputs": [
    {
     "output_type": "stream",
     "name": "stdout",
     "text": "Hello, World!\n"
    }
   ],
   "source": [
    "msg = \"Hello, World!\"\n",
    "print (msg)"
   ]
  },
  {
   "cell_type": "markdown",
   "metadata": {},
   "source": [
    "## Install CHaos Toolkit in Jupyter notebook\n",
    "\n",
    "Install chaostoolkit with:\n",
    "```\n",
    "python -m pip install chaostoolkit\n",
    "```\n"
   ]
  },
  {
   "cell_type": "code",
   "execution_count": 14,
   "metadata": {
    "tags": []
   },
   "outputs": [
    {
     "output_type": "stream",
     "name": "stdout",
     "text": "Collecting chaostoolkit\n  Using cached chaostoolkit-1.6.0-py3-none-any.whl (18 kB)\nRequirement already satisfied: click>=7.0 in /usr/local/lib/python3.7/site-packages (from chaostoolkit) (7.0)\nProcessing /Users/grant/Library/Caches/pip/wheels/97/f7/a1/752e22bb30c1cfe38194ea0070a5c66e76ef4d06ad0c7dc401/python_json_logger-0.1.11-py2.py3-none-any.whl\nRequirement already satisfied: PyYAML>=5.1.2 in /Users/grant/Library/Python/3.7/lib/python/site-packages (from chaostoolkit) (5.1.2)\nCollecting click-plugins>=1.0.4\n  Using cached click_plugins-1.1.1-py2.py3-none-any.whl (7.5 kB)\nCollecting logzero>=1.5.0\n  Using cached logzero-1.5.0-py2.py3-none-any.whl (14 kB)\nCollecting chaostoolkit-lib~=1.12\n  Using cached chaostoolkit_lib-1.12.0-py3-none-any.whl (49 kB)\nCollecting importlib-metadata>=1.2.0\n  Using cached importlib_metadata-1.7.0-py2.py3-none-any.whl (31 kB)\nRequirement already satisfied: requests>=2.21 in /usr/local/lib/python3.7/site-packages (from chaostoolkit) (2.22.0)\nCollecting zipp>=0.5\n  Using cached zipp-3.1.0-py3-none-any.whl (4.9 kB)\nRequirement already satisfied: idna<2.9,>=2.5 in /usr/local/lib/python3.7/site-packages (from requests>=2.21->chaostoolkit) (2.8)\nRequirement already satisfied: urllib3!=1.25.0,!=1.25.1,<1.26,>=1.21.1 in /usr/local/lib/python3.7/site-packages (from requests>=2.21->chaostoolkit) (1.25.3)\nRequirement already satisfied: chardet<3.1.0,>=3.0.2 in /usr/local/lib/python3.7/site-packages (from requests>=2.21->chaostoolkit) (3.0.4)\nRequirement already satisfied: certifi>=2017.4.17 in /usr/local/lib/python3.7/site-packages (from requests>=2.21->chaostoolkit) (2019.6.16)\n\u001b[31mERROR: chaostoolkit-lib 1.12.0 has requirement pyyaml>=5.3.1, but you'll have pyyaml 5.1.2 which is incompatible.\u001b[0m\nInstalling collected packages: python-json-logger, click-plugins, logzero, zipp, importlib-metadata, chaostoolkit-lib, chaostoolkit\nSuccessfully installed chaostoolkit-1.6.0 chaostoolkit-lib-1.12.0 click-plugins-1.1.1 importlib-metadata-1.7.0 logzero-1.5.0 python-json-logger-0.1.11 zipp-3.1.0\n"
    }
   ],
   "source": [
    "!python -m pip install chaostoolkit"
   ]
  },
  {
   "cell_type": "markdown",
   "metadata": {
    "tags": []
   },
   "source": [
    "Installing the chaostoolkit lead to an error due to a conflict with . version of  pyyaml, using the above command but this is because !python not execution the python from the virtual environment.\n",
    "\n",
    "This article refers to the issue: https://jakevdp.github.io/blog/2017/12/05/installing-python-packages-from-jupyter/.\n",
    "\n",
    "Using the following appears to work:\n",
    " "
   ]
  },
  {
   "cell_type": "code",
   "execution_count": 20,
   "metadata": {
    "tags": []
   },
   "outputs": [
    {
     "output_type": "stream",
     "name": "stdout",
     "text": "Collecting chaostoolkit\n  Using cached chaostoolkit-1.6.0-py3-none-any.whl (18 kB)\nCollecting logzero>=1.5.0\n  Using cached logzero-1.5.0-py2.py3-none-any.whl (14 kB)\nCollecting chaostoolkit-lib~=1.12\n  Using cached chaostoolkit_lib-1.12.0-py3-none-any.whl (49 kB)\nCollecting click-plugins>=1.0.4\n  Using cached click_plugins-1.1.1-py2.py3-none-any.whl (7.5 kB)\nCollecting requests>=2.21\n  Using cached requests-2.24.0-py2.py3-none-any.whl (61 kB)\nRequirement already satisfied: importlib-metadata>=1.2.0 in /Users/grant/.venvs/vs-code/lib/python3.7/site-packages (from chaostoolkit) (1.7.0)\nProcessing /Users/grant/Library/Caches/pip/wheels/97/f7/a1/752e22bb30c1cfe38194ea0070a5c66e76ef4d06ad0c7dc401/python_json_logger-0.1.11-py2.py3-none-any.whl\nProcessing /Users/grant/Library/Caches/pip/wheels/5e/03/1e/e1e954795d6f35dfc7b637fe2277bff021303bd9570ecea653/PyYAML-5.3.1-cp37-cp37m-macosx_10_14_x86_64.whl\nCollecting click>=7.0\n  Using cached click-7.1.2-py2.py3-none-any.whl (82 kB)\nCollecting certifi>=2017.4.17\n  Using cached certifi-2020.6.20-py2.py3-none-any.whl (156 kB)\nCollecting idna<3,>=2.5\n  Using cached idna-2.10-py2.py3-none-any.whl (58 kB)\nCollecting chardet<4,>=3.0.2\n  Using cached chardet-3.0.4-py2.py3-none-any.whl (133 kB)\nCollecting urllib3!=1.25.0,!=1.25.1,<1.26,>=1.21.1\n  Using cached urllib3-1.25.10-py2.py3-none-any.whl (127 kB)\nRequirement already satisfied: zipp>=0.5 in /Users/grant/.venvs/vs-code/lib/python3.7/site-packages (from importlib-metadata>=1.2.0->chaostoolkit) (3.1.0)\nInstalling collected packages: logzero, PyYAML, certifi, idna, chardet, urllib3, requests, chaostoolkit-lib, click, click-plugins, python-json-logger, chaostoolkit\nSuccessfully installed PyYAML-5.3.1 certifi-2020.6.20 chaostoolkit-1.6.0 chaostoolkit-lib-1.12.0 chardet-3.0.4 click-7.1.2 click-plugins-1.1.1 idna-2.10 logzero-1.5.0 python-json-logger-0.1.11 requests-2.24.0 urllib3-1.25.10\n"
    }
   ],
   "source": [
    "import sys\n",
    "!{sys.executable} -m pip install chaostoolkit"
   ]
  },
  {
   "cell_type": "code",
   "execution_count": null,
   "metadata": {
    "tags": []
   },
   "outputs": [],
   "source": [
    "## Check Chaostoolkit can be executec int he notebook venv\n",
    "\n",
    "\n"
   ]
  },
  {
   "cell_type": "code",
   "execution_count": 26,
   "metadata": {
    "tags": []
   },
   "outputs": [
    {
     "output_type": "stream",
     "name": "stdout",
     "text": "Usage: chaos [OPTIONS] COMMAND [ARGS]...\n\nOptions:\n  --version                   Show the version and exit.\n  --verbose                   Display debug level traces.\n  --no-version-check          Do not search for an updated version of the\n                              chaostoolkit.\n\n  --change-dir TEXT           Change directory before running experiment.\n  --no-log-file               Disable logging to file entirely.\n  --log-file TEXT             File path where to write the command's log.\n                              [default: chaostoolkit.log]\n\n  --log-format [string|json]  Console logging format: string, json.\n  --settings TEXT             Path to the settings file.  [default:\n                              /Users/grant/.chaostoolkit/settings.yaml]\n\n  --help                      Show this message and exit.\n\nCommands:\n  discover  Discover capabilities and experiments.\n  info      Display information about the Chaos Toolkit environment.\n  init      Initialize a new experiment from discovered capabilities.\n  run       Run the experiment loaded from SOURCE, either a local file or a...\n  settings  Read, write or remove from your settings file.\n  validate  Validate the experiment at SOURCE.\n"
    }
   ],
   "source": [
    "! chaos"
   ]
  },
  {
   "cell_type": "markdown",
   "metadata": {},
   "source": [
    "## Execute a first experiment with Chaostoolkit in a Notebook\n",
    "\n",
    "The following is the a simple experiment that calls ou to a URL expecting an http success status as a result:\n",
    "\n",
    "```\n",
    "{\n",
    "  \"version\": \"1.0.0\",\n",
    "  \"title\": \"Checks the hypothesis that a URL responds with a 200 status\",\n",
    "  \"description\": \"Check a given url responds with a 200 status\",\n",
    "  \"tags\": [\n",
    "      \"platform:local\",\n",
    "      \"service:url\"\n",
    "  ],\n",
    "  \"contributions\": {\n",
    "      \"availability\": \"high\",\n",
    "      \"reliability\": \"none\",\n",
    "      \"safety\": \"none\",\n",
    "      \"security\": \"none\",\n",
    "      \"performability\": \"none\"\n",
    "  },\n",
    "  \"steady-state-hypothesis\": {\n",
    "      \"title\": \"Application is normal\",\n",
    "      \"probes\": [\n",
    "          {\n",
    "              \"type\": \"probe\",\n",
    "              \"name\": \"application-must-respond-normally\",\n",
    "              \"tolerance\": 200,\n",
    "              \"provider\": {\n",
    "                  \"type\": \"http\",\n",
    "                  \"url\": \"http://httpbin.org/status/200\",\n",
    "                  \"timeout\": 3\n",
    "              }\n",
    "          }\n",
    "      ]\n",
    "  },\n",
    "  \"method\": [],\n",
    "  \"rollbacks\": []\n",
    "}\n",
    "\n",
    "```\n",
    "\n",
    "The abiove is saved into the same directory as the notebook in a file called: ```experiment.json```, it can then be executed with the following command:\n",
    "\n",
    "```\n",
    "\n",
    "```"
   ]
  },
  {
   "cell_type": "code",
   "execution_count": 28,
   "metadata": {
    "tags": []
   },
   "outputs": [
    {
     "output_type": "stream",
     "name": "stdout",
     "text": "\u001b[32m[2020-08-24 12:00:12 INFO]\u001b[39m Validating the experiment's syntax\n\u001b[32m[2020-08-24 12:00:12 INFO]\u001b[39m Experiment looks valid\n\u001b[32m[2020-08-24 12:00:12 INFO]\u001b[39m Running experiment: Checks the hypothesis that a URL responds with a 200 status\n\u001b[32m[2020-08-24 12:00:12 INFO]\u001b[39m Steady state hypothesis: Application is normal\n\u001b[32m[2020-08-24 12:00:12 INFO]\u001b[39m Probe: application-must-respond-normally\n\u001b[32m[2020-08-24 12:00:13 INFO]\u001b[39m Steady state hypothesis is met!\n\u001b[32m[2020-08-24 12:00:13 INFO]\u001b[39m No declared activities, let's move on.\n\u001b[32m[2020-08-24 12:00:13 INFO]\u001b[39m Steady state hypothesis: Application is normal\n\u001b[32m[2020-08-24 12:00:13 INFO]\u001b[39m Probe: application-must-respond-normally\n\u001b[32m[2020-08-24 12:00:13 INFO]\u001b[39m Steady state hypothesis is met!\n\u001b[32m[2020-08-24 12:00:13 INFO]\u001b[39m Let's rollback...\n\u001b[32m[2020-08-24 12:00:13 INFO]\u001b[39m No declared rollbacks, let's move on.\n\u001b[32m[2020-08-24 12:00:13 INFO]\u001b[39m Experiment ended with status: completed\n"
    }
   ],
   "source": [
    " !chaos run experiment.json"
   ]
  },
  {
   "cell_type": "markdown",
   "metadata": {},
   "source": [
    "This will result in the output shown above plus hte creation of the ```journal.json```  and ```chaostoolkit.log```\n"
   ]
  }
 ]
}