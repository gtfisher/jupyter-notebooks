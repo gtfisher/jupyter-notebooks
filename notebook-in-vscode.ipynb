{
 "cells": [
  {
   "cell_type": "markdown",
   "metadata": {},
   "source": [
    "# Setting up Jupyter Notebooks in Visual Studio Code\n",
    "\n",
    "The Python plugin for VS Code includes support for [Juptyer notebooks]( https://code.visualstudio.com/docs/python/jupyter-support). When you work with Python in VS Code you need to select an Interpreter for Python within VS Code. If you are using a Virtual Environment within VS Code and it does not have the ```ipykernal``` installed you will be prompted to install it when you create or open a Jupyter notebook.\n",
    "\n",
    "Once you notebook is opened you can select and environment that is used by your notebook, in the top right handside of the notebook page. If you select an environment that does not ```ipykernal``` installed you will be prompted to instll it and it will be installed in the environment for your notebook. Once this has been instlled you can execute the code in you local environment or you can optional connect to a [remote server](https://code.visualstudio.com/docs/python/jupyter-support#_connect-to-a-remote-jupyter-server) to execute your notebook.\n",
    "\n",
    "_Note:_  03/09/2020 - Notebooks stopped working, the following command had to be run to recover: \n",
    "```\n",
    "python3 -m pip install traitlets==4.3.3 --force-reinstall\n",
    "```\n",
    "\n",
    "Having created a notebook and setup jupyter in you environment's you can now execute the code segements of you notebooks:\n",
    "\n"
   ]
  },
  {
   "cell_type": "code",
   "execution_count": 1,
   "metadata": {
    "scrolled": true,
    "tags": []
   },
   "outputs": [
    {
     "name": "stdout",
     "output_type": "stream",
     "text": [
      "Hello, World!\n"
     ]
    }
   ],
   "source": [
    "msg = \"Hello, World!\"\n",
    "print (msg)"
   ]
  },
  {
   "cell_type": "markdown",
   "metadata": {},
   "source": [
    "Next: [Run the chaos toolkit with Jupyter notebooks](../notebooks/ctk-in-notebook.ipynb)"
   ]
  }
 ],
 "metadata": {
  "chaosiq": {
   "author": "Grant Tarrant-Fisher",
   "title": "Jupyter notebooks in Visual Studio Code"
  },
  "kernelspec": {
   "display_name": "Python 3",
   "language": "python",
   "name": "python3"
  },
  "language_info": {
   "codemirror_mode": {
    "name": "ipython",
    "version": 3
   },
   "file_extension": ".py",
   "mimetype": "text/x-python",
   "name": "python",
   "nbconvert_exporter": "python",
   "pygments_lexer": "ipython3",
   "version": "3.8.5"
  }
 },
 "nbformat": 4,
 "nbformat_minor": 2
}
