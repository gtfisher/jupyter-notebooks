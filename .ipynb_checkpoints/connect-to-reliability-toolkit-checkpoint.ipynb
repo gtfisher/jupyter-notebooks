{
 "cells": [
  {
   "cell_type": "markdown",
   "metadata": {},
   "source": [
    "# Connect Chaos Toolkit to the Reliablity Toolkit\n",
    "\n",
    "\n",
    "(Chaos Toolkit)[https://pypi.org/project/chaostoolkit/] and the (Chaos Cloud Plugin)[https://pypi.org/project/chaosiq-cloud/] are both packages that can be found in (Python Package Index (PyPI))[https://pypi.org/]\n",
    "\n",
    "To run the Chaos toolkit and to connect it to the Reliablity Toolkit Cloud you will need the Choas Toolkit and the Chaos Cloud plugin installed in your notebook\n",
    "\n",
    "to install run:\n",
    "\n",
    "```\n",
    "%pip install -U chaostoolkit chaosiq-cloud\n",
    "```\n",
    "\n",
    "\n",
    "\n",
    "\n"
   ]
  },
  {
   "cell_type": "code",
   "execution_count": 1,
   "metadata": {},
   "outputs": [
    {
     "name": "stdout",
     "output_type": "stream",
     "text": [
      "Collecting chaostoolkit\n",
      "  Using cached chaostoolkit-1.6.0-py3-none-any.whl (18 kB)\n",
      "Collecting chaosiq-cloud\n",
      "  Downloading chaosiq_cloud-0.11.0-py2.py3-none-any.whl (38 kB)\n",
      "Collecting importlib-metadata>=1.2.0\n",
      "  Using cached importlib_metadata-1.7.0-py2.py3-none-any.whl (31 kB)\n",
      "Processing /Users/grant/Library/Caches/pip/wheels/97/f7/a1/752e22bb30c1cfe38194ea0070a5c66e76ef4d06ad0c7dc401/python_json_logger-0.1.11-py2.py3-none-any.whl\n",
      "Collecting chaostoolkit-lib~=1.12\n",
      "  Using cached chaostoolkit_lib-1.12.0-py3-none-any.whl (49 kB)\n",
      "Collecting logzero>=1.5.0\n",
      "  Using cached logzero-1.5.0-py2.py3-none-any.whl (14 kB)\n",
      "Collecting click>=7.0\n",
      "  Using cached click-7.1.2-py2.py3-none-any.whl (82 kB)\n",
      "Collecting click-plugins>=1.0.4\n",
      "  Using cached click_plugins-1.1.1-py2.py3-none-any.whl (7.5 kB)\n",
      "Requirement already satisfied, skipping upgrade: requests>=2.21 in /Users/grant/Library/Python/3.8/lib/python/site-packages (from chaostoolkit) (2.24.0)\n",
      "Processing /Users/grant/Library/Caches/pip/wheels/13/90/db/290ab3a34f2ef0b5a0f89235dc2d40fea83e77de84ed2dc05c/PyYAML-5.3.1-cp38-cp38-macosx_10_15_x86_64.whl\n",
      "Collecting simplejson~=3.16\n",
      "  Using cached simplejson-3.17.2-cp38-cp38-macosx_10_14_x86_64.whl (74 kB)\n",
      "Collecting tzlocal~=1.5\n",
      "  Using cached tzlocal-1.5.1.tar.gz (16 kB)\n",
      "Collecting cloudevents~=0.2\n",
      "  Using cached cloudevents-0.3.0-py3-none-any.whl (26 kB)\n",
      "Collecting zipp>=0.5\n",
      "  Using cached zipp-3.1.0-py3-none-any.whl (4.9 kB)\n",
      "Requirement already satisfied, skipping upgrade: certifi>=2017.4.17 in /Users/grant/Library/Python/3.8/lib/python/site-packages (from requests>=2.21->chaostoolkit) (2020.6.20)\n",
      "Requirement already satisfied, skipping upgrade: urllib3!=1.25.0,!=1.25.1,<1.26,>=1.21.1 in /Users/grant/Library/Python/3.8/lib/python/site-packages (from requests>=2.21->chaostoolkit) (1.25.10)\n",
      "Requirement already satisfied, skipping upgrade: chardet<4,>=3.0.2 in /Users/grant/Library/Python/3.8/lib/python/site-packages (from requests>=2.21->chaostoolkit) (3.0.4)\n",
      "Requirement already satisfied, skipping upgrade: idna<3,>=2.5 in /Users/grant/Library/Python/3.8/lib/python/site-packages (from requests>=2.21->chaostoolkit) (2.10)\n",
      "Collecting pytz\n",
      "  Using cached pytz-2020.1-py2.py3-none-any.whl (510 kB)\n",
      "Building wheels for collected packages: tzlocal\n",
      "  Building wheel for tzlocal (setup.py) ... \u001b[?25ldone\n",
      "\u001b[?25h  Created wheel for tzlocal: filename=tzlocal-1.5.1-py3-none-any.whl size=17543 sha256=2130988a9d3276f9141c4b69e36f5982cf44229e09506f260b624a054ac53d68\n",
      "  Stored in directory: /Users/grant/Library/Caches/pip/wheels/3a/14/ce/9c504116f6b89e4a05ce0bc0f41983df280d7e00f463481900\n",
      "Successfully built tzlocal\n",
      "\u001b[31mERROR: chaosiq-cloud 0.11.0 has requirement chaostoolkit<1.6.0,~=1.3, but you'll have chaostoolkit 1.6.0 which is incompatible.\u001b[0m\n",
      "\u001b[31mERROR: chaosiq-cloud 0.11.0 has requirement chaostoolkit-lib<1.12.0,~=1.7, but you'll have chaostoolkit-lib 1.12.0 which is incompatible.\u001b[0m\n",
      "Installing collected packages: zipp, importlib-metadata, python-json-logger, logzero, PyYAML, chaostoolkit-lib, click, click-plugins, chaostoolkit, simplejson, pytz, tzlocal, cloudevents, chaosiq-cloud\n",
      "Successfully installed PyYAML-5.3.1 chaosiq-cloud-0.11.0 chaostoolkit-1.6.0 chaostoolkit-lib-1.12.0 click-7.1.2 click-plugins-1.1.1 cloudevents-0.3.0 importlib-metadata-1.7.0 logzero-1.5.0 python-json-logger-0.1.11 pytz-2020.1 simplejson-3.17.2 tzlocal-1.5.1 zipp-3.1.0\n",
      "Note: you may need to restart the kernel to use updated packages.\n"
     ]
    }
   ],
   "source": [
    "%pip install -U chaostoolkit chaosiq-cloud"
   ]
  },
  {
   "cell_type": "markdown",
   "metadata": {},
   "source": [
    "## Confirm the Chaos Toolit and Cloud plugin are installed\n",
    "\n",
    "To check to see if the Chaos toolkit and the Cloud plgun are installed run the following in your  notebook:"
   ]
  },
  {
   "cell_type": "code",
   "execution_count": null,
   "metadata": {},
   "outputs": [],
   "source": [
    "!chaos"
   ]
  },
  {
   "cell_type": "markdown",
   "metadata": {},
   "source": [
    "## Generate a token\n",
    "\n",
    "To sign in your Chaos toolkit to the Reliablity toolkit you will need a (Reliablity toolkit account)[https://console.chaosiq.io/login] and you will need to generate a token, this is covered in the (Reliablity toolkit documentation)[https://docs.chaosiq.io/tokens/] When you have generated your token keep a copy of it somewhere secure and it can be used in the sigin step below."
   ]
  },
  {
   "cell_type": "markdown",
   "metadata": {},
   "source": [
    "## Sign in to ChaosIQ\n",
    "\n",
    "Signing in to the Reliablity toolkit involves pasting in the token generated in the secvtion above. The token is sensitive so it is recomended you perfrom this step in your local shell and not directly in the Jupyter Notebook environment. Run a shell locally and set you python virtual environment to the same environment used for the Jupyter notebook. Then run the ```chaos signin``` command and follow the signin steps.\n"
   ]
  },
  {
   "cell_type": "code",
   "execution_count": null,
   "metadata": {},
   "outputs": [],
   "source": [
    "!chaos"
   ]
  },
  {
   "cell_type": "code",
   "execution_count": null,
   "metadata": {},
   "outputs": [],
   "source": []
  }
 ],
 "metadata": {
  "kernelspec": {
   "display_name": "Python 3",
   "language": "python",
   "name": "python3"
  },
  "language_info": {
   "codemirror_mode": {
    "name": "ipython",
    "version": 3
   },
   "file_extension": ".py",
   "mimetype": "text/x-python",
   "name": "python",
   "nbconvert_exporter": "python",
   "pygments_lexer": "ipython3",
   "version": "3.8.5"
  }
 },
 "nbformat": 4,
 "nbformat_minor": 4
}
