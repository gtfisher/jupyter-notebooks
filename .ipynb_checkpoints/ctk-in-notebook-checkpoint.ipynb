{
 "cells": [
  {
   "cell_type": "markdown",
   "metadata": {},
   "source": [
    "# Installing Chaos Toolkit in a Jupyter notebook\n",
    "\n",
    "To run [Jupyter Notebooks](https://jupyter.org/) locally you can use the ```jupyter notebook``` in the same directory as your notebook files or you can run Jupyter Notebooks with the [Microsoft Python Extension](https://marketplace.visualstudio.com/items?itemName=ms-python.python) in Visual Studio Code.\n",
    "\n",
    "## Adding the Chaos Toolkit to a Jupyter Notebook.\n",
    "\n",
    "If you are adding external depedencies in your notebook you will have to add those depedencies to your notebook environment. Here you are going to use the [Chaos Toolkit](https://chaostoolkit.org/), it can be insalled into the notebook as shown:\n",
    "\n",
    "```\n",
    "%pip install chaostoolkit\n",
    "```"
   ]
  },
  {
   "cell_type": "code",
   "execution_count": 3,
   "metadata": {
    "scrolled": true,
    "tags": []
   },
   "outputs": [
    {
     "name": "stdout",
     "output_type": "stream",
     "text": [
      "Collecting chaostoolkit\n",
      "  Using cached chaostoolkit-1.6.0-py3-none-any.whl (18 kB)\n",
      "Collecting click>=7.0\n",
      "  Using cached click-7.1.2-py2.py3-none-any.whl (82 kB)\n",
      "Collecting click-plugins>=1.0.4\n",
      "  Using cached click_plugins-1.1.1-py2.py3-none-any.whl (7.5 kB)\n",
      "Collecting logzero>=1.5.0\n",
      "  Using cached logzero-1.5.0-py2.py3-none-any.whl (14 kB)\n",
      "Collecting requests>=2.21\n",
      "  Using cached requests-2.24.0-py2.py3-none-any.whl (61 kB)\n",
      "Processing /Users/grant/Library/Caches/pip/wheels/5e/03/1e/e1e954795d6f35dfc7b637fe2277bff021303bd9570ecea653/PyYAML-5.3.1-cp37-cp37m-macosx_10_14_x86_64.whl\n",
      "Collecting chaostoolkit-lib~=1.12\n",
      "  Using cached chaostoolkit_lib-1.12.0-py3-none-any.whl (49 kB)\n",
      "Collecting importlib-metadata>=1.2.0\n",
      "  Using cached importlib_metadata-1.7.0-py2.py3-none-any.whl (31 kB)\n",
      "Processing /Users/grant/Library/Caches/pip/wheels/97/f7/a1/752e22bb30c1cfe38194ea0070a5c66e76ef4d06ad0c7dc401/python_json_logger-0.1.11-py2.py3-none-any.whl\n",
      "Collecting urllib3!=1.25.0,!=1.25.1,<1.26,>=1.21.1\n",
      "  Using cached urllib3-1.25.10-py2.py3-none-any.whl (127 kB)\n",
      "Collecting chardet<4,>=3.0.2\n",
      "  Using cached chardet-3.0.4-py2.py3-none-any.whl (133 kB)\n",
      "Collecting certifi>=2017.4.17\n",
      "  Using cached certifi-2020.6.20-py2.py3-none-any.whl (156 kB)\n",
      "Collecting idna<3,>=2.5\n",
      "  Using cached idna-2.10-py2.py3-none-any.whl (58 kB)\n",
      "Collecting zipp>=0.5\n",
      "  Using cached zipp-3.1.0-py3-none-any.whl (4.9 kB)\n",
      "Installing collected packages: click, click-plugins, logzero, urllib3, chardet, certifi, idna, requests, PyYAML, zipp, importlib-metadata, chaostoolkit-lib, python-json-logger, chaostoolkit\n",
      "Successfully installed PyYAML-5.3.1 certifi-2020.6.20 chaostoolkit-1.6.0 chaostoolkit-lib-1.12.0 chardet-3.0.4 click-7.1.2 click-plugins-1.1.1 idna-2.10 importlib-metadata-1.7.0 logzero-1.5.0 python-json-logger-0.1.11 requests-2.24.0 urllib3-1.25.10 zipp-3.1.0\n",
      "Note: you may need to restart the kernel to use updated packages.\n"
     ]
    }
   ],
   "source": [
    "%pip install chaostoolkit"
   ]
  },
  {
   "cell_type": "markdown",
   "metadata": {
    "tags": []
   },
   "source": [
    "## Check Chaos command can be run in the notebook.\n",
    "\n",
    "To ensure the chaostoolkit has been installed and the  chaos commnd can be run in the notebook environment execute:\n"
   ]
  },
  {
   "cell_type": "code",
   "execution_count": 4,
   "metadata": {
    "tags": []
   },
   "outputs": [
    {
     "name": "stdout",
     "output_type": "stream",
     "text": [
      "Usage: chaos [OPTIONS] COMMAND [ARGS]...\n",
      "\n",
      "Options:\n",
      "  --version                   Show the version and exit.\n",
      "  --verbose                   Display debug level traces.\n",
      "  --no-version-check          Do not search for an updated version of the\n",
      "                              chaostoolkit.\n",
      "\n",
      "  --change-dir TEXT           Change directory before running experiment.\n",
      "  --no-log-file               Disable logging to file entirely.\n",
      "  --log-file TEXT             File path where to write the command's log.\n",
      "                              [default: chaostoolkit.log]\n",
      "\n",
      "  --log-format [string|json]  Console logging format: string, json.\n",
      "  --settings TEXT             Path to the settings file.  [default:\n",
      "                              /Users/grant/.chaostoolkit/settings.yaml]\n",
      "\n",
      "  --help                      Show this message and exit.\n",
      "\n",
      "Commands:\n",
      "  discover  Discover capabilities and experiments.\n",
      "  info      Display information about the Chaos Toolkit environment.\n",
      "  init      Initialize a new experiment from discovered capabilities.\n",
      "  run       Run the experiment loaded from SOURCE, either a local file or a...\n",
      "  settings  Read, write or remove from your settings file.\n",
      "  validate  Validate the experiment at SOURCE.\n"
     ]
    }
   ],
   "source": [
    "! chaos"
   ]
  },
  {
   "cell_type": "markdown",
   "metadata": {},
   "source": [
    "## Execute a first experiment with Chaos Toolkit in a Notebook\n",
    "\n",
    "The following is the a simple experiment that calls ou to a URL expecting an http success status as a result:\n",
    "\n",
    "```\n",
    "{\n",
    "  \"version\": \"1.0.0\",\n",
    "  \"title\": \"Checks the hypothesis that a URL responds with a 200 status\",\n",
    "  \"description\": \"Check a given url responds with a 200 status\",\n",
    "  \"tags\": [\n",
    "      \"platform:local\",\n",
    "      \"service:url\"\n",
    "  ],\n",
    "  \"contributions\": {\n",
    "      \"availability\": \"high\",\n",
    "      \"reliability\": \"none\",\n",
    "      \"safety\": \"none\",\n",
    "      \"security\": \"none\",\n",
    "      \"performability\": \"none\"\n",
    "  },\n",
    "  \"steady-state-hypothesis\": {\n",
    "      \"title\": \"Application is normal\",\n",
    "      \"probes\": [\n",
    "          {\n",
    "              \"type\": \"probe\",\n",
    "              \"name\": \"application-must-respond-normally\",\n",
    "              \"tolerance\": 200,\n",
    "              \"provider\": {\n",
    "                  \"type\": \"http\",\n",
    "                  \"url\": \"http://httpbin.org/status/200\",\n",
    "                  \"timeout\": 3\n",
    "              }\n",
    "          }\n",
    "      ]\n",
    "  },\n",
    "  \"method\": [],\n",
    "  \"rollbacks\": []\n",
    "}\n",
    "\n",
    "```\n",
    "\n",
    "The above is saved into the same directory as the notebook in a file called: ```experiment.json```, it can then be executed with the following command:"
   ]
  },
  {
   "cell_type": "code",
   "execution_count": 5,
   "metadata": {
    "tags": []
   },
   "outputs": [
    {
     "name": "stdout",
     "output_type": "stream",
     "text": [
      "\u001b[32m[2020-08-25 11:42:37 INFO]\u001b[39m Validating the experiment's syntax\n",
      "\u001b[32m[2020-08-25 11:42:37 INFO]\u001b[39m Experiment looks valid\n",
      "\u001b[32m[2020-08-25 11:42:37 INFO]\u001b[39m Running experiment: Checks the hypothesis that a URL responds with a 200 status\n",
      "\u001b[32m[2020-08-25 11:42:37 INFO]\u001b[39m Steady state hypothesis: Application is normal\n",
      "\u001b[32m[2020-08-25 11:42:37 INFO]\u001b[39m Probe: application-must-respond-normally\n",
      "\u001b[32m[2020-08-25 11:42:37 INFO]\u001b[39m Steady state hypothesis is met!\n",
      "\u001b[32m[2020-08-25 11:42:37 INFO]\u001b[39m No declared activities, let's move on.\n",
      "\u001b[32m[2020-08-25 11:42:37 INFO]\u001b[39m Steady state hypothesis: Application is normal\n",
      "\u001b[32m[2020-08-25 11:42:37 INFO]\u001b[39m Probe: application-must-respond-normally\n",
      "\u001b[32m[2020-08-25 11:42:37 INFO]\u001b[39m Steady state hypothesis is met!\n",
      "\u001b[32m[2020-08-25 11:42:37 INFO]\u001b[39m Let's rollback...\n",
      "\u001b[32m[2020-08-25 11:42:37 INFO]\u001b[39m No declared rollbacks, let's move on.\n",
      "\u001b[32m[2020-08-25 11:42:37 INFO]\u001b[39m Experiment ended with status: completed\n"
     ]
    }
   ],
   "source": [
    " !chaos run experiment.json"
   ]
  },
  {
   "cell_type": "markdown",
   "metadata": {},
   "source": [
    "This will result is the output shown above plus the creation of the ```journal.json```  and ```chaostoolkit.log```."
   ]
  }
 ],
 "metadata": {
  "chaosiq": {
   "author": "Grant Tarrant-Fisher",
   "title": "Chaos Toolkit in Jupyter Notebooks"
  },
  "kernelspec": {
   "display_name": "Python 3",
   "language": "python",
   "name": "python3"
  },
  "language_info": {
   "codemirror_mode": {
    "name": "ipython",
    "version": 3
   },
   "file_extension": ".py",
   "mimetype": "text/x-python",
   "name": "python",
   "nbconvert_exporter": "python",
   "pygments_lexer": "ipython3",
   "version": "3.8.5"
  }
 },
 "nbformat": 4,
 "nbformat_minor": 2
}
