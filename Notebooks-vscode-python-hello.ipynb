{
 "metadata": {
  "language_info": {
   "codemirror_mode": {
    "name": "ipython",
    "version": 3
   },
   "file_extension": ".py",
   "mimetype": "text/x-python",
   "name": "python",
   "nbconvert_exporter": "python",
   "pygments_lexer": "ipython3",
   "version": "3.7.8-final"
  },
  "orig_nbformat": 2,
  "kernelspec": {
   "name": "python_defaultSpec_1598258742039",
   "display_name": "Python 3.7.8 64-bit ('vs-code': virtualenv)"
  }
 },
 "nbformat": 4,
 "nbformat_minor": 2,
 "cells": [
  {
   "cell_type": "markdown",
   "metadata": {},
   "source": [
    "# Setting up Jupyter notebooks in a clean env in Vs code\n",
    "\n",
    "* Create a new venv and activate it in vs-code\n",
    "* To use jupyter notebooks you need to install Jupyter notebooks in that env: ```pip install jupyter```\n",
    "* Create a new note book see [Create Jupyter notebook](https://code.visualstudio.com/docs/python/jupyter-support#_create-or-open-a-jupyter-notebook)\n",
    "* Having created a notebook and jupyter installed in your env you can then execute code segements of you notebook:\n",
    "\n"
   ]
  },
  {
   "cell_type": "code",
   "execution_count": 11,
   "metadata": {
    "tags": []
   },
   "outputs": [
    {
     "output_type": "stream",
     "name": "stdout",
     "text": "Hello, World!\n"
    }
   ],
   "source": [
    "msg = \"Hello, World!\"\n",
    "print (msg)"
   ]
  },
  {
   "cell_type": "code",
   "execution_count": null,
   "metadata": {},
   "outputs": [],
   "source": []
  }
 ]
}